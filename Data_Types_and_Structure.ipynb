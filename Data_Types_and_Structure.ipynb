{
  "nbformat": 4,
  "nbformat_minor": 0,
  "metadata": {
    "colab": {
      "provenance": []
    },
    "kernelspec": {
      "name": "python3",
      "display_name": "Python 3"
    },
    "language_info": {
      "name": "python"
    }
  },
  "cells": [
    {
      "cell_type": "markdown",
      "source": [
        "**Data Types and Structures Questions**"
      ],
      "metadata": {
        "id": "XUwGtYawFapA"
      }
    },
    {
      "cell_type": "code",
      "execution_count": 1,
      "metadata": {
        "id": "aGWNwJoU9fY6"
      },
      "outputs": [],
      "source": [
        "# 1. What are data structures, and why are they important?\n",
        "  ## -- Data structures are ways of organizing and storing data efficiently so that it can be accessed and modified easily. They are important because they optimize performance for various operations like searching, sorting, and updating data."
      ]
    },
    {
      "cell_type": "code",
      "source": [
        "# 2. Explain the difference between mutable and immutable data types with examples.\n",
        "  ## -- Mutable: Can be changed after creation (e.g., lists, dictionaries).\n",
        "  ## -- Immutable: Cannot be changed after creation (e.g., tuples, strings)."
      ],
      "metadata": {
        "id": "vvs0glRC-bsO"
      },
      "execution_count": 2,
      "outputs": []
    },
    {
      "cell_type": "code",
      "source": [
        "# 3. What are the main differences between lists and tuples in Python?\n",
        "  ## -- Lists are mutable, whereas tuples are immutable.\n",
        "  ## -- Lists use more memory and have slower iteration compared to tuples."
      ],
      "metadata": {
        "id": "LxNla-XU-0TZ"
      },
      "execution_count": 3,
      "outputs": []
    },
    {
      "cell_type": "code",
      "source": [
        "# 4. Describe how dictionaries store data?\n",
        "  ## -- Dictionaries store data as key-value pairs using a hash table, allowing fast access to values via unique keys."
      ],
      "metadata": {
        "id": "kIvAi_Xl_VoA"
      },
      "execution_count": 4,
      "outputs": []
    },
    {
      "cell_type": "code",
      "source": [
        "# 5. Why might you use a set instead of a list in Python?\n",
        "  ## -- Sets prevent duplicate values and provide faster lookups."
      ],
      "metadata": {
        "id": "4N8vBXEC_f7i"
      },
      "execution_count": 5,
      "outputs": []
    },
    {
      "cell_type": "code",
      "source": [
        "# 6. What is a string in Python, and how is it different from a list?\n",
        "  ## -- A string is an immutable sequence of characters, whereas a list is mutable and can contain elements of different types."
      ],
      "metadata": {
        "id": "pLStVmYg_rs1"
      },
      "execution_count": 6,
      "outputs": []
    },
    {
      "cell_type": "code",
      "source": [
        "# 7.  How do tuples ensure data integrity in Python?\n",
        "  ## -- Tuples are immutable, so their contents cannot be altered, ensuring consistency in data."
      ],
      "metadata": {
        "id": "89tfz6f8_068"
      },
      "execution_count": 7,
      "outputs": []
    },
    {
      "cell_type": "code",
      "source": [
        "# 8.  What is a hash table, and how does it relate to dictionaries in Python?\n",
        "  ## -- A hash table stores key-value pairs using a hashing function, enabling efficient lookups. Python dictionaries use hash tables for fast access."
      ],
      "metadata": {
        "id": "69fR2k-I_8eR"
      },
      "execution_count": 8,
      "outputs": []
    },
    {
      "cell_type": "code",
      "source": [
        "# 9. Can lists contain different data types in Python?\n",
        "  ## -- Yes, a list can hold multiple types of data, e.g., [1, \"Hello\", 3.14]."
      ],
      "metadata": {
        "id": "U465BU_1Aai3"
      },
      "execution_count": 9,
      "outputs": []
    },
    {
      "cell_type": "code",
      "source": [
        "# 10. Explain why strings are immutable in Python.\n",
        "  ## -- Strings are immutable to ensure security, performance, and memory optimization. In Python, strings are made immutable so that programmers cannot alter the contents of the object (even by mistake). This avoids unnecessary bugs."
      ],
      "metadata": {
        "id": "6Jh8MxGBAq-e"
      },
      "execution_count": 10,
      "outputs": []
    },
    {
      "cell_type": "code",
      "source": [
        "# 11. What advantages do dictionaries offer over lists for certain tasks?\n",
        "  ## -- Dictionaries have several advantages over lists for tasks that require frequent lookups or searches. Dictionaries are faster for finding a specific value, and they can store complex data structures."
      ],
      "metadata": {
        "id": "7vWjsBhaBHO6"
      },
      "execution_count": 11,
      "outputs": []
    },
    {
      "cell_type": "code",
      "source": [
        "# 12. Describe a scenario where using a tuple would be preferable over a list.\n",
        "  ## -- When storing fixed configuration settings, such as database connection parameters."
      ],
      "metadata": {
        "id": "J3RLRQXRBnFd"
      },
      "execution_count": 12,
      "outputs": []
    },
    {
      "cell_type": "code",
      "source": [
        "# 13.  How do sets handle duplicate values in Python?\n",
        "  ## -- Sets automatically remove duplicates and store only unique values."
      ],
      "metadata": {
        "id": "wqUDWsMcB1dv"
      },
      "execution_count": 13,
      "outputs": []
    },
    {
      "cell_type": "code",
      "source": [
        "# 14. How does the “in” keyword work differently for lists and dictionaries?\n",
        "  ## -- In lists, it checks if a value exists.\n",
        "  ## -- In dictionaries, it checks for the existence of a key."
      ],
      "metadata": {
        "id": "7tTv-X6MCENf"
      },
      "execution_count": 14,
      "outputs": []
    },
    {
      "cell_type": "code",
      "source": [
        "# 15. Can you modify the elements of a tuple? Explain why or why not?\n",
        "  ## -- No, tuples are immutable; once created, their elements cannot be changed."
      ],
      "metadata": {
        "id": "IwUYjY7hCXTf"
      },
      "execution_count": 15,
      "outputs": []
    },
    {
      "cell_type": "code",
      "source": [
        "# 16. What is a nested dictionary, and give an example of its use case?\n",
        "  ## -- A dictionary within another dictionary, useful for storing structured data. Example:\n",
        "student = {\"name\": \"Pooja Madaan\", \"grades\": {\"math\": 90, \"science\": 85}}"
      ],
      "metadata": {
        "id": "36dshZujDDyf"
      },
      "execution_count": 17,
      "outputs": []
    },
    {
      "cell_type": "code",
      "source": [
        "# 17. Describe the time complexity of accessing elements in a dictionary.\n",
        "  ## -- Constant time for key-based lookups due to hashing."
      ],
      "metadata": {
        "id": "fakkc9PODmhv"
      },
      "execution_count": 18,
      "outputs": []
    },
    {
      "cell_type": "code",
      "source": [
        "# 18. In what situations are lists preferred over dictionaries?\n",
        "  ## -- When ordering matters or when storing sequential data without key-value relationships."
      ],
      "metadata": {
        "id": "H5M_Il-XDvA3"
      },
      "execution_count": 19,
      "outputs": []
    },
    {
      "cell_type": "code",
      "source": [
        "# 19. Why are dictionaries considered unordered, and how does that affect data retrieval?\n",
        "  ## -- Prior to Python 3.7, dictionaries had no guaranteed order. Since Python 3.7+, they maintain insertion order but retrieval is still based on hash values."
      ],
      "metadata": {
        "id": "jG-Y63yvFAqQ"
      },
      "execution_count": 20,
      "outputs": []
    },
    {
      "cell_type": "code",
      "source": [
        "# 20. Explain the difference between a list and a dictionary in terms of data retrieval.\n",
        "  ## -- Lists use index-based retrieval and searching.\n",
        "  ## -- Dictionaries use key-based retrieval with hash tables."
      ],
      "metadata": {
        "id": "BWUb4Ss6FK8O"
      },
      "execution_count": 21,
      "outputs": []
    },
    {
      "cell_type": "markdown",
      "source": [
        "**Practical Questions**"
      ],
      "metadata": {
        "id": "X9OAMhdNFk1r"
      }
    },
    {
      "cell_type": "code",
      "source": [
        "# 1. Write a code to create a string with your name and print it.\n",
        "  ## Ans\n",
        "name = \"Pooja Madaan\"\n",
        "print(name)"
      ],
      "metadata": {
        "colab": {
          "base_uri": "https://localhost:8080/"
        },
        "id": "Ug_EKG86FOsN",
        "outputId": "be221db6-0fa4-474f-97e6-5a09cb6604af"
      },
      "execution_count": 22,
      "outputs": [
        {
          "output_type": "stream",
          "name": "stdout",
          "text": [
            "Pooja Madaan\n"
          ]
        }
      ]
    },
    {
      "cell_type": "code",
      "source": [
        "# 2. Write a code to find the length of the string \"Hello World\".\n",
        "  ## Ans\n",
        "len(\"Hello World\")"
      ],
      "metadata": {
        "colab": {
          "base_uri": "https://localhost:8080/"
        },
        "id": "RYZGcpMFF67t",
        "outputId": "afb94204-775a-42ca-a866-73e8c3307239"
      },
      "execution_count": 23,
      "outputs": [
        {
          "output_type": "execute_result",
          "data": {
            "text/plain": [
              "11"
            ]
          },
          "metadata": {},
          "execution_count": 23
        }
      ]
    },
    {
      "cell_type": "code",
      "source": [
        "# 3. Write a code to slice the first 3 characters from the string \"Python Programming\".\n",
        "  ## Ans\n",
        "a = \"Python Programming\"\n",
        "print(a[0:3])\n",
        "\n",
        "#or\n",
        "\n",
        "print(\"Python Programming\"[:3])"
      ],
      "metadata": {
        "colab": {
          "base_uri": "https://localhost:8080/"
        },
        "id": "gJNWZe1UGEJv",
        "outputId": "6fc50e8c-12a6-40a5-aa3a-6aab880ed0cd"
      },
      "execution_count": 47,
      "outputs": [
        {
          "output_type": "stream",
          "name": "stdout",
          "text": [
            "Pyt\n",
            "Pyt\n"
          ]
        }
      ]
    },
    {
      "cell_type": "code",
      "source": [
        "# 4. Write a code to convert the string \"hello\" to uppercase.\n",
        "  ## Ans\n",
        "print(\"hello\".upper())"
      ],
      "metadata": {
        "colab": {
          "base_uri": "https://localhost:8080/"
        },
        "id": "cori_YqDGR3o",
        "outputId": "0495f7de-f137-4cac-9cff-6d13e173a851"
      },
      "execution_count": 48,
      "outputs": [
        {
          "output_type": "stream",
          "name": "stdout",
          "text": [
            "HELLO\n"
          ]
        }
      ]
    },
    {
      "cell_type": "code",
      "source": [
        "# 5. Write a code to replace the word \"apple\" with \"orange\" in the string \"I like apple\".\n",
        "  ## Ans\n",
        "print(\"I like apple\".replace(\"apple\", \"orange\"))"
      ],
      "metadata": {
        "colab": {
          "base_uri": "https://localhost:8080/"
        },
        "id": "H4Ax-b3zGsZO",
        "outputId": "0df53554-4faf-4cb2-bec5-266d8ac85acc"
      },
      "execution_count": 69,
      "outputs": [
        {
          "output_type": "stream",
          "name": "stdout",
          "text": [
            "I like orange\n"
          ]
        }
      ]
    },
    {
      "cell_type": "code",
      "source": [
        "# 6. Write a code to create a list with numbers 1 to 5 and print it.\n",
        "  ## Ans\n",
        "list = [1, 2, 3, 4, 5]\n",
        "print(list)"
      ],
      "metadata": {
        "colab": {
          "base_uri": "https://localhost:8080/"
        },
        "id": "Z1JQ4Og1HJLX",
        "outputId": "fc4316dd-b584-43c9-cbd8-f6e57f7c397c"
      },
      "execution_count": 32,
      "outputs": [
        {
          "output_type": "stream",
          "name": "stdout",
          "text": [
            "[1, 2, 3, 4, 5]\n"
          ]
        }
      ]
    },
    {
      "cell_type": "code",
      "source": [
        "# 7. Write a code to append the number 10 to the list [1, 2, 3, 4].\n",
        "  ## Ans\n",
        "list = [1, 2, 3, 4]\n",
        "list.append(10)\n",
        "list"
      ],
      "metadata": {
        "colab": {
          "base_uri": "https://localhost:8080/"
        },
        "id": "RGfYM2oVHVPT",
        "outputId": "f654d08b-6547-4556-f526-57ba3a42e682"
      },
      "execution_count": 33,
      "outputs": [
        {
          "output_type": "execute_result",
          "data": {
            "text/plain": [
              "[1, 2, 3, 4, 10]"
            ]
          },
          "metadata": {},
          "execution_count": 33
        }
      ]
    },
    {
      "cell_type": "code",
      "source": [
        "# 8. Write a code to remove the number 3 from the list [1, 2, 3, 4, 5].\n",
        "  ## Ans\n",
        "list = [1, 2, 3, 4, 5]\n",
        "list.remove(3)\n",
        "list"
      ],
      "metadata": {
        "colab": {
          "base_uri": "https://localhost:8080/"
        },
        "id": "IevYAnj4Hhg6",
        "outputId": "51655bbc-c7e2-403e-d6b0-3593c9d0f88a"
      },
      "execution_count": 34,
      "outputs": [
        {
          "output_type": "execute_result",
          "data": {
            "text/plain": [
              "[1, 2, 4, 5]"
            ]
          },
          "metadata": {},
          "execution_count": 34
        }
      ]
    },
    {
      "cell_type": "code",
      "source": [
        "# 9. Write a code to access the second element in the list ['a', 'b', 'c', 'd'].\n",
        "  ## Ans\n",
        "print(['a', 'b', 'c', 'd'][1])\n",
        "\n",
        "#or\n",
        "\n",
        "list = ['a', 'b', 'c', 'd']\n",
        "list[1]"
      ],
      "metadata": {
        "colab": {
          "base_uri": "https://localhost:8080/",
          "height": 53
        },
        "id": "IRACe587Hp-e",
        "outputId": "7c04d205-cdba-4738-cfd2-955d88f94794"
      },
      "execution_count": 35,
      "outputs": [
        {
          "output_type": "stream",
          "name": "stdout",
          "text": [
            "b\n"
          ]
        },
        {
          "output_type": "execute_result",
          "data": {
            "text/plain": [
              "'b'"
            ],
            "application/vnd.google.colaboratory.intrinsic+json": {
              "type": "string"
            }
          },
          "metadata": {},
          "execution_count": 35
        }
      ]
    },
    {
      "cell_type": "code",
      "source": [
        "# 10. Write a code to reverse the list [10, 20, 30, 40, 50].\n",
        "  ## Ans\n",
        "numbers = [10, 20, 30, 40, 50]\n",
        "numbers.reverse()\n",
        "numbers"
      ],
      "metadata": {
        "colab": {
          "base_uri": "https://localhost:8080/"
        },
        "id": "S3_WgHmhH786",
        "outputId": "ebd957c2-b854-4775-f0bc-5eb1e95f284c"
      },
      "execution_count": 36,
      "outputs": [
        {
          "output_type": "execute_result",
          "data": {
            "text/plain": [
              "[50, 40, 30, 20, 10]"
            ]
          },
          "metadata": {},
          "execution_count": 36
        }
      ]
    },
    {
      "cell_type": "code",
      "source": [
        "# 11. Write a code to create a tuple with the elements 100, 200, 300 and print it.\n",
        "  ## Ans\n",
        "my_tuple = (100, 200, 300)\n",
        "print(my_tuple)"
      ],
      "metadata": {
        "colab": {
          "base_uri": "https://localhost:8080/"
        },
        "id": "fHwlG7JuIJfE",
        "outputId": "81b0b9f4-0810-457d-c700-802a639ddb99"
      },
      "execution_count": 37,
      "outputs": [
        {
          "output_type": "stream",
          "name": "stdout",
          "text": [
            "(100, 200, 300)\n"
          ]
        }
      ]
    },
    {
      "cell_type": "code",
      "source": [
        "# 12. Write a code to access the second-to-last element of the tuple ('red', 'green', 'blue', 'yellow').\n",
        "  ## Ans\n",
        "my_tuple = ('red', 'green', 'blue', 'yellow')\n",
        "my_tuple[1:]"
      ],
      "metadata": {
        "colab": {
          "base_uri": "https://localhost:8080/"
        },
        "id": "PSclGfmqIXq8",
        "outputId": "93665ad5-c8fe-4512-adc1-e33c197d7e08"
      },
      "execution_count": 65,
      "outputs": [
        {
          "output_type": "execute_result",
          "data": {
            "text/plain": [
              "('green', 'blue', 'yellow')"
            ]
          },
          "metadata": {},
          "execution_count": 65
        }
      ]
    },
    {
      "cell_type": "code",
      "source": [
        "# 13. Write a code to find the minimum number in the tuple (10, 20, 5, 15).\n",
        "  ## Ans\n",
        "my_tuple = (10, 20, 5, 15)\n",
        "min(my_tuple)"
      ],
      "metadata": {
        "colab": {
          "base_uri": "https://localhost:8080/"
        },
        "id": "nO20FADEIuYZ",
        "outputId": "79131068-c678-4dba-ec68-86f554795c78"
      },
      "execution_count": 39,
      "outputs": [
        {
          "output_type": "execute_result",
          "data": {
            "text/plain": [
              "5"
            ]
          },
          "metadata": {},
          "execution_count": 39
        }
      ]
    },
    {
      "cell_type": "code",
      "source": [
        "# 14. Write a code to find the index of the element \"cat\" in the tuple ('dog', 'cat', 'rabbit').\n",
        "  ## Ans\n",
        "animals = ('dog', 'cat', 'rabbit')\n",
        "animals.index(\"cat\")"
      ],
      "metadata": {
        "colab": {
          "base_uri": "https://localhost:8080/"
        },
        "id": "5v6qByE_I2Ny",
        "outputId": "fc0f2c8e-85ae-4d93-85d3-d9e9b9e9dc11"
      },
      "execution_count": 40,
      "outputs": [
        {
          "output_type": "execute_result",
          "data": {
            "text/plain": [
              "1"
            ]
          },
          "metadata": {},
          "execution_count": 40
        }
      ]
    },
    {
      "cell_type": "code",
      "source": [
        "# 15. Write a code to create a tuple containing three different fruits and check if \"kiwi\" is in it.\n",
        "  ## Ans\n",
        "fruits = (\"apple\", \"banana\", \"orange\")\n",
        "\"kiwi\" in fruits"
      ],
      "metadata": {
        "colab": {
          "base_uri": "https://localhost:8080/"
        },
        "id": "XKMhSRLiJNhK",
        "outputId": "bc23fb23-14ac-4187-91ab-b053d650dab7"
      },
      "execution_count": 42,
      "outputs": [
        {
          "output_type": "execute_result",
          "data": {
            "text/plain": [
              "False"
            ]
          },
          "metadata": {},
          "execution_count": 42
        }
      ]
    },
    {
      "cell_type": "code",
      "source": [
        "# 16. Write a code to create a set with the elements 'a', 'b', 'c' and print it.\n",
        "  ## Ans\n",
        "my_set = {'a', 'b', 'c'}\n",
        "print(my_set)"
      ],
      "metadata": {
        "colab": {
          "base_uri": "https://localhost:8080/"
        },
        "id": "qThzrRGiJVQX",
        "outputId": "ff45ac1d-b4d6-499e-be28-da13f5da3fb3"
      },
      "execution_count": 43,
      "outputs": [
        {
          "output_type": "stream",
          "name": "stdout",
          "text": [
            "{'c', 'b', 'a'}\n"
          ]
        }
      ]
    },
    {
      "cell_type": "code",
      "source": [
        "# 17. Write a code to clear all elements from the set {1, 2, 3, 4, 5}.\n",
        "  ## Ans\n",
        "my_set = {1, 2, 3, 4, 5}\n",
        "my_set.clear()\n",
        "my_set"
      ],
      "metadata": {
        "colab": {
          "base_uri": "https://localhost:8080/"
        },
        "id": "wcPH0Bg2JhIm",
        "outputId": "d8918562-a93c-4923-ed3f-15aaa4f60242"
      },
      "execution_count": 44,
      "outputs": [
        {
          "output_type": "execute_result",
          "data": {
            "text/plain": [
              "set()"
            ]
          },
          "metadata": {},
          "execution_count": 44
        }
      ]
    },
    {
      "cell_type": "code",
      "source": [
        "# 18. Write a code to remove the element 4 from the set {1, 2, 3, 4}.\n",
        "  ## Ans\n",
        "my_set = {1, 2, 3, 4}\n",
        "my_set.remove(4)\n",
        "my_set"
      ],
      "metadata": {
        "colab": {
          "base_uri": "https://localhost:8080/"
        },
        "id": "ozwy4f9PJqdV",
        "outputId": "c14834d0-4a14-4733-8dfd-828e2662398a"
      },
      "execution_count": 45,
      "outputs": [
        {
          "output_type": "execute_result",
          "data": {
            "text/plain": [
              "{1, 2, 3}"
            ]
          },
          "metadata": {},
          "execution_count": 45
        }
      ]
    },
    {
      "cell_type": "code",
      "source": [
        "# 19. Write a code to find the union of two sets {1, 2, 3} and {3, 4, 5}.\n",
        "  ## Ans\n",
        "set1 = {1, 2, 3}\n",
        "set2 = {3, 4, 5}\n",
        "set1.union(set2)"
      ],
      "metadata": {
        "colab": {
          "base_uri": "https://localhost:8080/"
        },
        "id": "-JX53nM1JyBV",
        "outputId": "2238fd41-2485-4a43-b87e-48389bb997db"
      },
      "execution_count": 49,
      "outputs": [
        {
          "output_type": "execute_result",
          "data": {
            "text/plain": [
              "{1, 2, 3, 4, 5}"
            ]
          },
          "metadata": {},
          "execution_count": 49
        }
      ]
    },
    {
      "cell_type": "code",
      "source": [
        "# 20. Write a code to find the intersection of two sets {1, 2, 3} and {2, 3, 4}.\n",
        "  ## Ans\n",
        "set1 = {1, 2, 3}\n",
        "set2 = {2, 3, 4}\n",
        "intersection_set = set1.intersection(set2)\n",
        "intersection_set"
      ],
      "metadata": {
        "colab": {
          "base_uri": "https://localhost:8080/"
        },
        "id": "397xuRf2Kg-g",
        "outputId": "d013df23-a4e5-4471-8fe8-2ed8721ec5d4"
      },
      "execution_count": 50,
      "outputs": [
        {
          "output_type": "execute_result",
          "data": {
            "text/plain": [
              "{2, 3}"
            ]
          },
          "metadata": {},
          "execution_count": 50
        }
      ]
    },
    {
      "cell_type": "code",
      "source": [
        "# 21. Write a code to create a dictionary with the keys \"name\", \"age\", and \"city\", and print it.\n",
        "  ## Ans\n",
        "my_dict = {\"name\": \"Pooja Madaan\", \"age\": 25, \"city\": \"New Delhi\"}\n",
        "print(my_dict)"
      ],
      "metadata": {
        "colab": {
          "base_uri": "https://localhost:8080/"
        },
        "id": "AVvYMizwKqU_",
        "outputId": "134ef6c8-ab2d-436c-beec-56114a21468a"
      },
      "execution_count": 51,
      "outputs": [
        {
          "output_type": "stream",
          "name": "stdout",
          "text": [
            "{'name': 'Pooja Madaan', 'age': 25, 'city': 'New Delhi'}\n"
          ]
        }
      ]
    },
    {
      "cell_type": "code",
      "source": [
        "# 22. Write a code to add a new key-value pair \"country\": \"USA\" to the dictionary {'name': 'John', 'age': 25}.\n",
        "  ## Ans\n",
        "my_dict = {'name': 'John', 'age': 25}\n",
        "my_dict[\"country\"] = \"USA\"\n",
        "my_dict"
      ],
      "metadata": {
        "colab": {
          "base_uri": "https://localhost:8080/"
        },
        "id": "HYINesY6K38D",
        "outputId": "b8b1ea78-9202-4c40-da0d-162b41f45229"
      },
      "execution_count": 52,
      "outputs": [
        {
          "output_type": "execute_result",
          "data": {
            "text/plain": [
              "{'name': 'John', 'age': 25, 'country': 'USA'}"
            ]
          },
          "metadata": {},
          "execution_count": 52
        }
      ]
    },
    {
      "cell_type": "code",
      "source": [
        "# 23. Write a code to access the value associated with the key \"name\" in the dictionary {'name': 'Alice', 'age': 30}.\n",
        "  ## Ans\n",
        "my_dict = {'name': 'Alice', 'age': 30}\n",
        "my_dict[\"name\"]"
      ],
      "metadata": {
        "colab": {
          "base_uri": "https://localhost:8080/",
          "height": 35
        },
        "id": "AqEIxkWILCZ0",
        "outputId": "30ebcf4b-e8d7-4a98-b654-5e8da4434a9a"
      },
      "execution_count": 53,
      "outputs": [
        {
          "output_type": "execute_result",
          "data": {
            "text/plain": [
              "'Alice'"
            ],
            "application/vnd.google.colaboratory.intrinsic+json": {
              "type": "string"
            }
          },
          "metadata": {},
          "execution_count": 53
        }
      ]
    },
    {
      "cell_type": "code",
      "source": [
        "# 24. Write a code to remove the key \"age\" from the dictionary {'name': 'Bob', 'age': 22, 'city': 'New York'}.\n",
        "  ## Ans\n",
        "my_dict = {'name': 'Bob', 'age': 22, 'city': 'New York'}\n",
        "del my_dict[\"age\"]\n",
        "my_dict"
      ],
      "metadata": {
        "colab": {
          "base_uri": "https://localhost:8080/"
        },
        "id": "G_LtcPiCLJmA",
        "outputId": "9ebd48d9-b2eb-4509-ec8c-1d7565921a43"
      },
      "execution_count": 56,
      "outputs": [
        {
          "output_type": "execute_result",
          "data": {
            "text/plain": [
              "{'name': 'Bob', 'city': 'New York'}"
            ]
          },
          "metadata": {},
          "execution_count": 56
        }
      ]
    },
    {
      "cell_type": "code",
      "source": [
        "# 25. Write a code to check if the key \"city\" exists in the dictionary {'name': 'Alice', 'city': 'Paris'}.\n",
        "  ## Ans\n",
        "my_dict = {'name': 'Alice', 'city': 'Paris'}\n",
        "\"city\" in my_dict"
      ],
      "metadata": {
        "colab": {
          "base_uri": "https://localhost:8080/"
        },
        "id": "GX33ArLZLM_B",
        "outputId": "96b17e4d-0bf7-427f-ef40-3c860ada2a1f"
      },
      "execution_count": 57,
      "outputs": [
        {
          "output_type": "execute_result",
          "data": {
            "text/plain": [
              "True"
            ]
          },
          "metadata": {},
          "execution_count": 57
        }
      ]
    },
    {
      "cell_type": "code",
      "source": [
        "# 26. Write a code to create a list, a tuple, and a dictionary, and print them all.\n",
        "  ## Ans\n",
        "my_list = [1, 2, 3]\n",
        "my_tuple = (4, 5, 6)\n",
        "my_dict = {'a': 1, 'b': 2, 'c': 3}\n",
        "print(my_list, my_tuple, my_dict)"
      ],
      "metadata": {
        "colab": {
          "base_uri": "https://localhost:8080/"
        },
        "id": "9R7uUghFLaWN",
        "outputId": "eefd6bda-813c-47e5-b56c-790c5d85d3cd"
      },
      "execution_count": 58,
      "outputs": [
        {
          "output_type": "stream",
          "name": "stdout",
          "text": [
            "[1, 2, 3] (4, 5, 6) {'a': 1, 'b': 2, 'c': 3}\n"
          ]
        }
      ]
    },
    {
      "cell_type": "code",
      "source": [
        "# 27.  Write a code to create a list of 5 random numbers between 1 and 100, sort it in ascending order, and print the result.(replaced)\n",
        "  ## Ans\n",
        "import random\n",
        "random_numbers = [random.randint(1, 100) for _ in range(5)]\n",
        "random_numbers.sort()\n",
        "print(random_numbers)"
      ],
      "metadata": {
        "colab": {
          "base_uri": "https://localhost:8080/"
        },
        "id": "1zFDva9bLn-S",
        "outputId": "612ffd5a-d990-443b-db1d-2899bc0c805a"
      },
      "execution_count": 59,
      "outputs": [
        {
          "output_type": "stream",
          "name": "stdout",
          "text": [
            "[9, 9, 29, 70, 97]\n"
          ]
        }
      ]
    },
    {
      "cell_type": "code",
      "source": [
        "# 28. Write a code to create a list with strings and print the element at the third index.\n",
        "  ## Ans\n",
        "my_list = [\"apple\", \"banana\", \"cherry\", \"date\", \"elderberry\"]\n",
        "print(my_list[3])"
      ],
      "metadata": {
        "colab": {
          "base_uri": "https://localhost:8080/"
        },
        "id": "CTtVgynSMDYl",
        "outputId": "f594baa7-2290-428b-ee7a-becf3e808708"
      },
      "execution_count": 60,
      "outputs": [
        {
          "output_type": "stream",
          "name": "stdout",
          "text": [
            "date\n"
          ]
        }
      ]
    },
    {
      "cell_type": "code",
      "source": [
        "# 29. Write a code to combine two dictionaries into one and print the result.\n",
        "  ## Ans\n",
        "dict1 = {\"a\": 1, \"b\": 2}\n",
        "dict2 = {\"c\": 3, \"d\": 4}\n",
        "merged_dict = {**dict1, **dict2}\n",
        "print(merged_dict)"
      ],
      "metadata": {
        "colab": {
          "base_uri": "https://localhost:8080/"
        },
        "id": "ooG2RD_zMjns",
        "outputId": "734621a4-3d95-424c-8d7c-6707efac2a36"
      },
      "execution_count": 61,
      "outputs": [
        {
          "output_type": "stream",
          "name": "stdout",
          "text": [
            "{'a': 1, 'b': 2, 'c': 3, 'd': 4}\n"
          ]
        }
      ]
    },
    {
      "cell_type": "code",
      "source": [
        "# 30. Write a code to convert a list of strings into a set.\n",
        "  ## Ans\n",
        "my_list = [\"apple\", \"banana\", \"cherry\", \"apple\", \"banana\"]\n",
        "my_set = set(my_list)\n",
        "my_set"
      ],
      "metadata": {
        "colab": {
          "base_uri": "https://localhost:8080/"
        },
        "id": "FOye251mMzLb",
        "outputId": "c9532690-b778-4f3c-c91d-131ed2807927"
      },
      "execution_count": 63,
      "outputs": [
        {
          "output_type": "execute_result",
          "data": {
            "text/plain": [
              "{'apple', 'banana', 'cherry'}"
            ]
          },
          "metadata": {},
          "execution_count": 63
        }
      ]
    },
    {
      "cell_type": "code",
      "source": [],
      "metadata": {
        "id": "fOzkWj0wM_Z-"
      },
      "execution_count": null,
      "outputs": []
    }
  ]
}